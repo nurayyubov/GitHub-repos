{
  "nbformat": 4,
  "nbformat_minor": 0,
  "metadata": {
    "colab": {
      "provenance": [],
      "authorship_tag": "ABX9TyP0M2LL/vjWLEGcdS7CTnEG",
      "include_colab_link": true
    },
    "kernelspec": {
      "name": "python3",
      "display_name": "Python 3"
    },
    "language_info": {
      "name": "python"
    }
  },
  "cells": [
    {
      "cell_type": "markdown",
      "metadata": {
        "id": "view-in-github",
        "colab_type": "text"
      },
      "source": [
        "<a href=\"https://colab.research.google.com/github/nurayyubov/GitHub-repos/blob/main/b_cancer_hw_nur.ipynb\" target=\"_parent\"><img src=\"https://colab.research.google.com/assets/colab-badge.svg\" alt=\"Open In Colab\"/></a>"
      ]
    },
    {
      "cell_type": "code",
      "source": [
        "import pandas as pd\n",
        "import numpy as np\n",
        "import matplotlib.pyplot as plt\n",
        "from sklearn import datasets"
      ],
      "metadata": {
        "id": "qFExiurX-Q8k"
      },
      "execution_count": 1,
      "outputs": []
    },
    {
      "cell_type": "code",
      "source": [
        "bcancer = datasets.load_breast_cancer(as_frame=True)\n",
        "df = bcancer.frame\n",
        "df.sample(5)"
      ],
      "metadata": {
        "colab": {
          "base_uri": "https://localhost:8080/",
          "height": 290
        },
        "id": "Ia1yBMjsWuam",
        "outputId": "92b549ef-6a93-4936-ae14-0fb86b9f8965"
      },
      "execution_count": 4,
      "outputs": [
        {
          "output_type": "execute_result",
          "data": {
            "text/plain": [
              "     mean radius  mean texture  mean perimeter  mean area  mean smoothness  \\\n",
              "82         25.22         24.91          171.50     1878.0          0.10630   \n",
              "165        14.97         19.76           95.50      690.2          0.08421   \n",
              "178        13.01         22.22           82.01      526.4          0.06251   \n",
              "25         17.14         16.40          116.00      912.7          0.11860   \n",
              "79         12.86         18.00           83.19      506.3          0.09934   \n",
              "\n",
              "     mean compactness  mean concavity  mean concave points  mean symmetry  \\\n",
              "82            0.26650        0.333900             0.184500         0.1829   \n",
              "165           0.05352        0.019470             0.019390         0.1515   \n",
              "178           0.01938        0.001595             0.001852         0.1395   \n",
              "25            0.22760        0.222900             0.140100         0.3040   \n",
              "79            0.09546        0.038890             0.023150         0.1718   \n",
              "\n",
              "     mean fractal dimension  ...  worst texture  worst perimeter  worst area  \\\n",
              "82                  0.06782  ...          33.62           211.70      2562.0   \n",
              "165                 0.05266  ...          25.82           102.30       782.1   \n",
              "178                 0.05234  ...          29.02            88.18       608.8   \n",
              "25                  0.07413  ...          21.40           152.40      1461.0   \n",
              "79                  0.05997  ...          24.82            91.88       622.1   \n",
              "\n",
              "     worst smoothness  worst compactness  worst concavity  \\\n",
              "82            0.15730            0.60760         0.647600   \n",
              "165           0.10450            0.09995         0.077500   \n",
              "178           0.08125            0.03432         0.007977   \n",
              "25            0.15450            0.39490         0.385300   \n",
              "79            0.12890            0.21410         0.173100   \n",
              "\n",
              "     worst concave points  worst symmetry  worst fractal dimension  target  \n",
              "82               0.286700          0.2355                  0.10510       0  \n",
              "165              0.057540          0.2646                  0.06085       1  \n",
              "178              0.009259          0.2295                  0.05843       1  \n",
              "25               0.255000          0.4066                  0.10590       0  \n",
              "79               0.079260          0.2779                  0.07918       1  \n",
              "\n",
              "[5 rows x 31 columns]"
            ],
            "text/html": [
              "\n",
              "  <div id=\"df-29926c1a-8f0e-45ff-9fa6-a9502cb1a7ff\" class=\"colab-df-container\">\n",
              "    <div>\n",
              "<style scoped>\n",
              "    .dataframe tbody tr th:only-of-type {\n",
              "        vertical-align: middle;\n",
              "    }\n",
              "\n",
              "    .dataframe tbody tr th {\n",
              "        vertical-align: top;\n",
              "    }\n",
              "\n",
              "    .dataframe thead th {\n",
              "        text-align: right;\n",
              "    }\n",
              "</style>\n",
              "<table border=\"1\" class=\"dataframe\">\n",
              "  <thead>\n",
              "    <tr style=\"text-align: right;\">\n",
              "      <th></th>\n",
              "      <th>mean radius</th>\n",
              "      <th>mean texture</th>\n",
              "      <th>mean perimeter</th>\n",
              "      <th>mean area</th>\n",
              "      <th>mean smoothness</th>\n",
              "      <th>mean compactness</th>\n",
              "      <th>mean concavity</th>\n",
              "      <th>mean concave points</th>\n",
              "      <th>mean symmetry</th>\n",
              "      <th>mean fractal dimension</th>\n",
              "      <th>...</th>\n",
              "      <th>worst texture</th>\n",
              "      <th>worst perimeter</th>\n",
              "      <th>worst area</th>\n",
              "      <th>worst smoothness</th>\n",
              "      <th>worst compactness</th>\n",
              "      <th>worst concavity</th>\n",
              "      <th>worst concave points</th>\n",
              "      <th>worst symmetry</th>\n",
              "      <th>worst fractal dimension</th>\n",
              "      <th>target</th>\n",
              "    </tr>\n",
              "  </thead>\n",
              "  <tbody>\n",
              "    <tr>\n",
              "      <th>82</th>\n",
              "      <td>25.22</td>\n",
              "      <td>24.91</td>\n",
              "      <td>171.50</td>\n",
              "      <td>1878.0</td>\n",
              "      <td>0.10630</td>\n",
              "      <td>0.26650</td>\n",
              "      <td>0.333900</td>\n",
              "      <td>0.184500</td>\n",
              "      <td>0.1829</td>\n",
              "      <td>0.06782</td>\n",
              "      <td>...</td>\n",
              "      <td>33.62</td>\n",
              "      <td>211.70</td>\n",
              "      <td>2562.0</td>\n",
              "      <td>0.15730</td>\n",
              "      <td>0.60760</td>\n",
              "      <td>0.647600</td>\n",
              "      <td>0.286700</td>\n",
              "      <td>0.2355</td>\n",
              "      <td>0.10510</td>\n",
              "      <td>0</td>\n",
              "    </tr>\n",
              "    <tr>\n",
              "      <th>165</th>\n",
              "      <td>14.97</td>\n",
              "      <td>19.76</td>\n",
              "      <td>95.50</td>\n",
              "      <td>690.2</td>\n",
              "      <td>0.08421</td>\n",
              "      <td>0.05352</td>\n",
              "      <td>0.019470</td>\n",
              "      <td>0.019390</td>\n",
              "      <td>0.1515</td>\n",
              "      <td>0.05266</td>\n",
              "      <td>...</td>\n",
              "      <td>25.82</td>\n",
              "      <td>102.30</td>\n",
              "      <td>782.1</td>\n",
              "      <td>0.10450</td>\n",
              "      <td>0.09995</td>\n",
              "      <td>0.077500</td>\n",
              "      <td>0.057540</td>\n",
              "      <td>0.2646</td>\n",
              "      <td>0.06085</td>\n",
              "      <td>1</td>\n",
              "    </tr>\n",
              "    <tr>\n",
              "      <th>178</th>\n",
              "      <td>13.01</td>\n",
              "      <td>22.22</td>\n",
              "      <td>82.01</td>\n",
              "      <td>526.4</td>\n",
              "      <td>0.06251</td>\n",
              "      <td>0.01938</td>\n",
              "      <td>0.001595</td>\n",
              "      <td>0.001852</td>\n",
              "      <td>0.1395</td>\n",
              "      <td>0.05234</td>\n",
              "      <td>...</td>\n",
              "      <td>29.02</td>\n",
              "      <td>88.18</td>\n",
              "      <td>608.8</td>\n",
              "      <td>0.08125</td>\n",
              "      <td>0.03432</td>\n",
              "      <td>0.007977</td>\n",
              "      <td>0.009259</td>\n",
              "      <td>0.2295</td>\n",
              "      <td>0.05843</td>\n",
              "      <td>1</td>\n",
              "    </tr>\n",
              "    <tr>\n",
              "      <th>25</th>\n",
              "      <td>17.14</td>\n",
              "      <td>16.40</td>\n",
              "      <td>116.00</td>\n",
              "      <td>912.7</td>\n",
              "      <td>0.11860</td>\n",
              "      <td>0.22760</td>\n",
              "      <td>0.222900</td>\n",
              "      <td>0.140100</td>\n",
              "      <td>0.3040</td>\n",
              "      <td>0.07413</td>\n",
              "      <td>...</td>\n",
              "      <td>21.40</td>\n",
              "      <td>152.40</td>\n",
              "      <td>1461.0</td>\n",
              "      <td>0.15450</td>\n",
              "      <td>0.39490</td>\n",
              "      <td>0.385300</td>\n",
              "      <td>0.255000</td>\n",
              "      <td>0.4066</td>\n",
              "      <td>0.10590</td>\n",
              "      <td>0</td>\n",
              "    </tr>\n",
              "    <tr>\n",
              "      <th>79</th>\n",
              "      <td>12.86</td>\n",
              "      <td>18.00</td>\n",
              "      <td>83.19</td>\n",
              "      <td>506.3</td>\n",
              "      <td>0.09934</td>\n",
              "      <td>0.09546</td>\n",
              "      <td>0.038890</td>\n",
              "      <td>0.023150</td>\n",
              "      <td>0.1718</td>\n",
              "      <td>0.05997</td>\n",
              "      <td>...</td>\n",
              "      <td>24.82</td>\n",
              "      <td>91.88</td>\n",
              "      <td>622.1</td>\n",
              "      <td>0.12890</td>\n",
              "      <td>0.21410</td>\n",
              "      <td>0.173100</td>\n",
              "      <td>0.079260</td>\n",
              "      <td>0.2779</td>\n",
              "      <td>0.07918</td>\n",
              "      <td>1</td>\n",
              "    </tr>\n",
              "  </tbody>\n",
              "</table>\n",
              "<p>5 rows × 31 columns</p>\n",
              "</div>\n",
              "    <div class=\"colab-df-buttons\">\n",
              "\n",
              "  <div class=\"colab-df-container\">\n",
              "    <button class=\"colab-df-convert\" onclick=\"convertToInteractive('df-29926c1a-8f0e-45ff-9fa6-a9502cb1a7ff')\"\n",
              "            title=\"Convert this dataframe to an interactive table.\"\n",
              "            style=\"display:none;\">\n",
              "\n",
              "  <svg xmlns=\"http://www.w3.org/2000/svg\" height=\"24px\" viewBox=\"0 -960 960 960\">\n",
              "    <path d=\"M120-120v-720h720v720H120Zm60-500h600v-160H180v160Zm220 220h160v-160H400v160Zm0 220h160v-160H400v160ZM180-400h160v-160H180v160Zm440 0h160v-160H620v160ZM180-180h160v-160H180v160Zm440 0h160v-160H620v160Z\"/>\n",
              "  </svg>\n",
              "    </button>\n",
              "\n",
              "  <style>\n",
              "    .colab-df-container {\n",
              "      display:flex;\n",
              "      gap: 12px;\n",
              "    }\n",
              "\n",
              "    .colab-df-convert {\n",
              "      background-color: #E8F0FE;\n",
              "      border: none;\n",
              "      border-radius: 50%;\n",
              "      cursor: pointer;\n",
              "      display: none;\n",
              "      fill: #1967D2;\n",
              "      height: 32px;\n",
              "      padding: 0 0 0 0;\n",
              "      width: 32px;\n",
              "    }\n",
              "\n",
              "    .colab-df-convert:hover {\n",
              "      background-color: #E2EBFA;\n",
              "      box-shadow: 0px 1px 2px rgba(60, 64, 67, 0.3), 0px 1px 3px 1px rgba(60, 64, 67, 0.15);\n",
              "      fill: #174EA6;\n",
              "    }\n",
              "\n",
              "    .colab-df-buttons div {\n",
              "      margin-bottom: 4px;\n",
              "    }\n",
              "\n",
              "    [theme=dark] .colab-df-convert {\n",
              "      background-color: #3B4455;\n",
              "      fill: #D2E3FC;\n",
              "    }\n",
              "\n",
              "    [theme=dark] .colab-df-convert:hover {\n",
              "      background-color: #434B5C;\n",
              "      box-shadow: 0px 1px 3px 1px rgba(0, 0, 0, 0.15);\n",
              "      filter: drop-shadow(0px 1px 2px rgba(0, 0, 0, 0.3));\n",
              "      fill: #FFFFFF;\n",
              "    }\n",
              "  </style>\n",
              "\n",
              "    <script>\n",
              "      const buttonEl =\n",
              "        document.querySelector('#df-29926c1a-8f0e-45ff-9fa6-a9502cb1a7ff button.colab-df-convert');\n",
              "      buttonEl.style.display =\n",
              "        google.colab.kernel.accessAllowed ? 'block' : 'none';\n",
              "\n",
              "      async function convertToInteractive(key) {\n",
              "        const element = document.querySelector('#df-29926c1a-8f0e-45ff-9fa6-a9502cb1a7ff');\n",
              "        const dataTable =\n",
              "          await google.colab.kernel.invokeFunction('convertToInteractive',\n",
              "                                                    [key], {});\n",
              "        if (!dataTable) return;\n",
              "\n",
              "        const docLinkHtml = 'Like what you see? Visit the ' +\n",
              "          '<a target=\"_blank\" href=https://colab.research.google.com/notebooks/data_table.ipynb>data table notebook</a>'\n",
              "          + ' to learn more about interactive tables.';\n",
              "        element.innerHTML = '';\n",
              "        dataTable['output_type'] = 'display_data';\n",
              "        await google.colab.output.renderOutput(dataTable, element);\n",
              "        const docLink = document.createElement('div');\n",
              "        docLink.innerHTML = docLinkHtml;\n",
              "        element.appendChild(docLink);\n",
              "      }\n",
              "    </script>\n",
              "  </div>\n",
              "\n",
              "\n",
              "    <div id=\"df-aa5150e1-86d6-4650-8399-221ce9542fff\">\n",
              "      <button class=\"colab-df-quickchart\" onclick=\"quickchart('df-aa5150e1-86d6-4650-8399-221ce9542fff')\"\n",
              "                title=\"Suggest charts\"\n",
              "                style=\"display:none;\">\n",
              "\n",
              "<svg xmlns=\"http://www.w3.org/2000/svg\" height=\"24px\"viewBox=\"0 0 24 24\"\n",
              "     width=\"24px\">\n",
              "    <g>\n",
              "        <path d=\"M19 3H5c-1.1 0-2 .9-2 2v14c0 1.1.9 2 2 2h14c1.1 0 2-.9 2-2V5c0-1.1-.9-2-2-2zM9 17H7v-7h2v7zm4 0h-2V7h2v10zm4 0h-2v-4h2v4z\"/>\n",
              "    </g>\n",
              "</svg>\n",
              "      </button>\n",
              "\n",
              "<style>\n",
              "  .colab-df-quickchart {\n",
              "      --bg-color: #E8F0FE;\n",
              "      --fill-color: #1967D2;\n",
              "      --hover-bg-color: #E2EBFA;\n",
              "      --hover-fill-color: #174EA6;\n",
              "      --disabled-fill-color: #AAA;\n",
              "      --disabled-bg-color: #DDD;\n",
              "  }\n",
              "\n",
              "  [theme=dark] .colab-df-quickchart {\n",
              "      --bg-color: #3B4455;\n",
              "      --fill-color: #D2E3FC;\n",
              "      --hover-bg-color: #434B5C;\n",
              "      --hover-fill-color: #FFFFFF;\n",
              "      --disabled-bg-color: #3B4455;\n",
              "      --disabled-fill-color: #666;\n",
              "  }\n",
              "\n",
              "  .colab-df-quickchart {\n",
              "    background-color: var(--bg-color);\n",
              "    border: none;\n",
              "    border-radius: 50%;\n",
              "    cursor: pointer;\n",
              "    display: none;\n",
              "    fill: var(--fill-color);\n",
              "    height: 32px;\n",
              "    padding: 0;\n",
              "    width: 32px;\n",
              "  }\n",
              "\n",
              "  .colab-df-quickchart:hover {\n",
              "    background-color: var(--hover-bg-color);\n",
              "    box-shadow: 0 1px 2px rgba(60, 64, 67, 0.3), 0 1px 3px 1px rgba(60, 64, 67, 0.15);\n",
              "    fill: var(--button-hover-fill-color);\n",
              "  }\n",
              "\n",
              "  .colab-df-quickchart-complete:disabled,\n",
              "  .colab-df-quickchart-complete:disabled:hover {\n",
              "    background-color: var(--disabled-bg-color);\n",
              "    fill: var(--disabled-fill-color);\n",
              "    box-shadow: none;\n",
              "  }\n",
              "\n",
              "  .colab-df-spinner {\n",
              "    border: 2px solid var(--fill-color);\n",
              "    border-color: transparent;\n",
              "    border-bottom-color: var(--fill-color);\n",
              "    animation:\n",
              "      spin 1s steps(1) infinite;\n",
              "  }\n",
              "\n",
              "  @keyframes spin {\n",
              "    0% {\n",
              "      border-color: transparent;\n",
              "      border-bottom-color: var(--fill-color);\n",
              "      border-left-color: var(--fill-color);\n",
              "    }\n",
              "    20% {\n",
              "      border-color: transparent;\n",
              "      border-left-color: var(--fill-color);\n",
              "      border-top-color: var(--fill-color);\n",
              "    }\n",
              "    30% {\n",
              "      border-color: transparent;\n",
              "      border-left-color: var(--fill-color);\n",
              "      border-top-color: var(--fill-color);\n",
              "      border-right-color: var(--fill-color);\n",
              "    }\n",
              "    40% {\n",
              "      border-color: transparent;\n",
              "      border-right-color: var(--fill-color);\n",
              "      border-top-color: var(--fill-color);\n",
              "    }\n",
              "    60% {\n",
              "      border-color: transparent;\n",
              "      border-right-color: var(--fill-color);\n",
              "    }\n",
              "    80% {\n",
              "      border-color: transparent;\n",
              "      border-right-color: var(--fill-color);\n",
              "      border-bottom-color: var(--fill-color);\n",
              "    }\n",
              "    90% {\n",
              "      border-color: transparent;\n",
              "      border-bottom-color: var(--fill-color);\n",
              "    }\n",
              "  }\n",
              "</style>\n",
              "\n",
              "      <script>\n",
              "        async function quickchart(key) {\n",
              "          const quickchartButtonEl =\n",
              "            document.querySelector('#' + key + ' button');\n",
              "          quickchartButtonEl.disabled = true;  // To prevent multiple clicks.\n",
              "          quickchartButtonEl.classList.add('colab-df-spinner');\n",
              "          try {\n",
              "            const charts = await google.colab.kernel.invokeFunction(\n",
              "                'suggestCharts', [key], {});\n",
              "          } catch (error) {\n",
              "            console.error('Error during call to suggestCharts:', error);\n",
              "          }\n",
              "          quickchartButtonEl.classList.remove('colab-df-spinner');\n",
              "          quickchartButtonEl.classList.add('colab-df-quickchart-complete');\n",
              "        }\n",
              "        (() => {\n",
              "          let quickchartButtonEl =\n",
              "            document.querySelector('#df-aa5150e1-86d6-4650-8399-221ce9542fff button');\n",
              "          quickchartButtonEl.style.display =\n",
              "            google.colab.kernel.accessAllowed ? 'block' : 'none';\n",
              "        })();\n",
              "      </script>\n",
              "    </div>\n",
              "\n",
              "    </div>\n",
              "  </div>\n"
            ],
            "application/vnd.google.colaboratory.intrinsic+json": {
              "type": "dataframe"
            }
          },
          "metadata": {},
          "execution_count": 4
        }
      ]
    },
    {
      "cell_type": "code",
      "source": [
        "#mean radius\n",
        "data_list = df['mean radius'].values.tolist()\n",
        "data_array = df['mean radius'].values\n",
        "data_frame = df['mean radius']"
      ],
      "metadata": {
        "id": "0-zlzR11YhvW"
      },
      "execution_count": 8,
      "outputs": []
    },
    {
      "cell_type": "markdown",
      "source": [
        "**Mean**"
      ],
      "metadata": {
        "id": "tt37Jt-JdM6z"
      }
    },
    {
      "cell_type": "code",
      "source": [
        "data_array.mean()"
      ],
      "metadata": {
        "colab": {
          "base_uri": "https://localhost:8080/"
        },
        "id": "cTWTWfLwY2oR",
        "outputId": "23a88fd7-5486-4a83-e8d5-10e6579296d7"
      },
      "execution_count": 9,
      "outputs": [
        {
          "output_type": "execute_result",
          "data": {
            "text/plain": [
              "np.float64(14.127291739894552)"
            ]
          },
          "metadata": {},
          "execution_count": 9
        }
      ]
    },
    {
      "cell_type": "markdown",
      "source": [
        "**Median**"
      ],
      "metadata": {
        "id": "z8_E_nLRdkha"
      }
    },
    {
      "cell_type": "code",
      "source": [
        "data_frame.median()"
      ],
      "metadata": {
        "colab": {
          "base_uri": "https://localhost:8080/"
        },
        "id": "_Bqy-RKgdJhg",
        "outputId": "4ff99f17-66e0-435b-a6ea-a665e3723884"
      },
      "execution_count": 12,
      "outputs": [
        {
          "output_type": "execute_result",
          "data": {
            "text/plain": [
              "13.37"
            ]
          },
          "metadata": {},
          "execution_count": 12
        }
      ]
    },
    {
      "cell_type": "markdown",
      "source": [
        "**CDF**"
      ],
      "metadata": {
        "id": "XR7Hp7Jze0wo"
      }
    },
    {
      "cell_type": "code",
      "source": [
        "def calculate_cdf(data_list):\n",
        "    sorted_data = sorted(data_list)\n",
        "    cdf = np.arange(1, len(sorted_data)+1) / len(sorted_data)\n",
        "    return sorted_data, cdf\n",
        "\n",
        "x, y = calculate_cdf(data_list)\n",
        "plt.plot(x, y, label = 'CDF', color='red')\n",
        "plt.xlabel('x')\n",
        "plt.ylabel('F^(x)')\n",
        "plt.legend()"
      ],
      "metadata": {
        "colab": {
          "base_uri": "https://localhost:8080/",
          "height": 466
        },
        "id": "FgJoQCesdvzr",
        "outputId": "c5834301-f3a6-45e6-ea56-fb3492817812"
      },
      "execution_count": 15,
      "outputs": [
        {
          "output_type": "execute_result",
          "data": {
            "text/plain": [
              "<matplotlib.legend.Legend at 0x7bbadbc83190>"
            ]
          },
          "metadata": {},
          "execution_count": 15
        },
        {
          "output_type": "display_data",
          "data": {
            "text/plain": [
              "<Figure size 640x480 with 1 Axes>"
            ],
            "image/png": "[encoded data removed]"
          },
          "metadata": {}
        }
      ]
    },
    {
      "cell_type": "markdown",
      "source": [
        "inverse cdf\n"
      ],
      "metadata": {
        "id": "zfzFlD0UhPHt"
      }
    },
    {
      "cell_type": "code",
      "source": [
        "def quartiles(data_list):\n",
        "  q0 = data_list[0]\n",
        "  q1 = data_list[int(len(data_list)/4)]\n",
        "  q2 = data_list[int(len(data_list)/2)]\n",
        "  q3 = data_list[int(3*len(data_list)/4)]\n",
        "  q4 = data_list[-1]\n",
        "  return q0, q1, q2, q3, q4\n",
        "q = quartiles(x)\n",
        "q\n"
      ],
      "metadata": {
        "colab": {
          "base_uri": "https://localhost:8080/"
        },
        "id": "_-cXQlANggNp",
        "outputId": "c9f35522-871e-475f-94b4-423b6bad81eb"
      },
      "execution_count": 39,
      "outputs": [
        {
          "output_type": "execute_result",
          "data": {
            "text/plain": [
              "(6.981, 11.7, 13.37, 15.78, 28.11)"
            ]
          },
          "metadata": {},
          "execution_count": 39
        }
      ]
    },
    {
      "cell_type": "code",
      "source": [
        "# inverse CDF\n",
        "plt.plot(y, x, label='Inverse CDF')\n",
        "plt.scatter([0, 0.25, 0.5, 0.75, 1], q, color='r') # 0.5\n",
        "\n",
        "# plot.plot()\n",
        "plt.xlabel('Probab')\n",
        "plt.ylabel('F^-1(p)')\n",
        "plt.legend()"
      ],
      "metadata": {
        "colab": {
          "base_uri": "https://localhost:8080/",
          "height": 466
        },
        "id": "BBtjCifglolb",
        "outputId": "e16e1a4c-caf8-4e72-c5fd-8078aef66ca3"
      },
      "execution_count": 40,
      "outputs": [
        {
          "output_type": "execute_result",
          "data": {
            "text/plain": [
              "<matplotlib.legend.Legend at 0x7bbadb1994d0>"
            ]
          },
          "metadata": {},
          "execution_count": 40
        },
        {
          "output_type": "display_data",
          "data": {
            "text/plain": [
              "<Figure size 640x480 with 1 Axes>"
            ],
            "image/png": "[encoded data removed]"
          },
          "metadata": {}
        }
      ]
    },
    {
      "cell_type": "code",
      "source": [
        "IQR = q[3] - q[1]\n",
        "IQR"
      ],
      "metadata": {
        "colab": {
          "base_uri": "https://localhost:8080/"
        },
        "id": "wE92X8GfnKL-",
        "outputId": "9545e32b-8c6f-4749-ba97-b57884261118"
      },
      "execution_count": 42,
      "outputs": [
        {
          "output_type": "execute_result",
          "data": {
            "text/plain": [
              "4.08"
            ]
          },
          "metadata": {},
          "execution_count": 42
        }
      ]
    },
    {
      "cell_type": "markdown",
      "source": [
        "**outlier**"
      ],
      "metadata": {
        "id": "VDTutI9voYDS"
      }
    },
    {
      "cell_type": "code",
      "source": [
        "lessmin = df[df['mean radius'] < q[1] - 1.5*IQR]\n",
        "moremax = df[df['mean radius'] > q[3] + 1.5*IQR]\n",
        "print(lessmin.shape)\n",
        "print(moremax.shape)"
      ],
      "metadata": {
        "colab": {
          "base_uri": "https://localhost:8080/"
        },
        "id": "1KxiWhyQnwwb",
        "outputId": "218d0934-54ff-4e72-f3b6-0c6c66e9f1f4"
      },
      "execution_count": 44,
      "outputs": [
        {
          "output_type": "stream",
          "name": "stdout",
          "text": [
            "(0, 31)\n",
            "(14, 31)\n"
          ]
        }
      ]
    },
    {
      "cell_type": "markdown",
      "source": [
        "**mode**"
      ],
      "metadata": {
        "id": "eCkz1e0xpWuU"
      }
    },
    {
      "cell_type": "code",
      "source": [
        "import statistics as st\n",
        "st.mode(data_list)\n"
      ],
      "metadata": {
        "colab": {
          "base_uri": "https://localhost:8080/"
        },
        "id": "kegd_9nKoM7G",
        "outputId": "17893300-344d-486f-c393-6ec1f0fb90f7"
      },
      "execution_count": 46,
      "outputs": [
        {
          "output_type": "execute_result",
          "data": {
            "text/plain": [
              "4"
            ]
          },
          "metadata": {},
          "execution_count": 46
        }
      ]
    },
    {
      "cell_type": "markdown",
      "source": [
        "**variance**"
      ],
      "metadata": {
        "id": "Mn-i-rTTqJDb"
      }
    },
    {
      "cell_type": "code",
      "source": [
        "def variance(array):\n",
        "  mean = array.mean()\n",
        "  farq = (array-mean)**2\n",
        "  var = farq.sum()/len(array)\n",
        "  return var\n",
        "var_result = variance(data_array)\n",
        "var_result"
      ],
      "metadata": {
        "colab": {
          "base_uri": "https://localhost:8080/"
        },
        "id": "oSrG9M0uqGm6",
        "outputId": "4b70b2a3-9ed9-4cd8-bd13-2c63b8b4f02c"
      },
      "execution_count": 52,
      "outputs": [
        {
          "output_type": "execute_result",
          "data": {
            "text/plain": [
              "np.float64(12.397094259351807)"
            ]
          },
          "metadata": {},
          "execution_count": 52
        }
      ]
    },
    {
      "cell_type": "markdown",
      "source": [
        "Standart **deviation**"
      ],
      "metadata": {
        "id": "nqQP3u55qugX"
      }
    },
    {
      "cell_type": "code",
      "source": [
        "sd = np.sqrt(var_result)\n",
        "sd"
      ],
      "metadata": {
        "colab": {
          "base_uri": "https://localhost:8080/"
        },
        "id": "pJTWS_u3pb0-",
        "outputId": "ab472337-bce3-45c7-d0f1-164c0246ab33"
      },
      "execution_count": 54,
      "outputs": [
        {
          "output_type": "execute_result",
          "data": {
            "text/plain": [
              "np.float64(3.520950760711062)"
            ]
          },
          "metadata": {},
          "execution_count": 54
        }
      ]
    },
    {
      "cell_type": "code",
      "source": [],
      "metadata": {
        "id": "ZZjrQ92hq2Gi"
      },
      "execution_count": null,
      "outputs": []
    }
  ]
}